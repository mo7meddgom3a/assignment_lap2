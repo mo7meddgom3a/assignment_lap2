{
 "cells": [
  {
   "cell_type": "markdown",
   "id": "f7e1de6c",
   "metadata": {},
   "source": [
    "creating a variable"
   ]
  },
  {
   "cell_type": "code",
   "execution_count": 1,
   "id": "a5b59768",
   "metadata": {},
   "outputs": [],
   "source": [
    "name = \"Mohamed Gomaa Mohamed Mousa\"\n",
    "age = 22 \n",
    "height = 173\n",
    "pet = True"
   ]
  },
  {
   "cell_type": "markdown",
   "id": "26ca7b46",
   "metadata": {},
   "source": [
    "printing data type"
   ]
  },
  {
   "cell_type": "code",
   "execution_count": 2,
   "id": "f5dc5820",
   "metadata": {},
   "outputs": [
    {
     "name": "stdout",
     "output_type": "stream",
     "text": [
      "<class 'str'> <class 'int'> <class 'int'> <class 'bool'>\n"
     ]
    }
   ],
   "source": [
    "print (type(name),type( age ),type( height ),type( pet ))"
   ]
  },
  {
   "cell_type": "markdown",
   "id": "0a1ef310",
   "metadata": {},
   "source": [
    "Even Odd "
   ]
  },
  {
   "cell_type": "code",
   "execution_count": 3,
   "id": "446f53d3",
   "metadata": {},
   "outputs": [
    {
     "name": "stdout",
     "output_type": "stream",
     "text": [
      "enter the number 5\n",
      "the number is Odd:\n"
     ]
    }
   ],
   "source": [
    "num =int(input (\"enter the number \"))\n",
    "\n",
    "if num % 2 == 0:\n",
    "    print (\"the numper is Even:\")\n",
    "else:\n",
    "    print (\"the number is Odd:\")"
   ]
  },
  {
   "cell_type": "markdown",
   "id": "c7f33211",
   "metadata": {},
   "source": [
    "Even Odd Negative or not"
   ]
  },
  {
   "cell_type": "code",
   "execution_count": 4,
   "id": "643b339a",
   "metadata": {},
   "outputs": [
    {
     "name": "stdout",
     "output_type": "stream",
     "text": [
      "enter the integer number -8\n",
      "the number is negative:\n",
      "the numper is Even:\n"
     ]
    }
   ],
   "source": [
    "num =int(input (\"enter the integer number \"))\n",
    "\n",
    "if num % 2 == 0:\n",
    "    if num > 0:\n",
    "        print ( \"the number is positive:\")\n",
    "    else :\n",
    "         print ( \"the number is negative:\")\n",
    "    print (\"the numper is Even:\")\n",
    "else:\n",
    "    if num > 0:\n",
    "        print ( \"the number is positive:\")\n",
    "    else :\n",
    "         print ( \"the number is negative:\")\n",
    "    print (\"the number is Odd:\")"
   ]
  },
  {
   "cell_type": "markdown",
   "id": "977bf53f",
   "metadata": {},
   "source": [
    "Loop"
   ]
  },
  {
   "cell_type": "code",
   "execution_count": 5,
   "id": "0086a786",
   "metadata": {},
   "outputs": [
    {
     "name": "stdout",
     "output_type": "stream",
     "text": [
      "1\n",
      "2\n",
      "3\n",
      "4\n",
      "5\n",
      "6\n",
      "7\n",
      "8\n",
      "9\n",
      "10\n"
     ]
    }
   ],
   "source": [
    "for i in range(1,11):\n",
    "    print (i)"
   ]
  },
  {
   "cell_type": "markdown",
   "id": "a030fb0a",
   "metadata": {},
   "source": [
    "only Even numbers"
   ]
  },
  {
   "cell_type": "code",
   "execution_count": 6,
   "id": "917a6c2e",
   "metadata": {},
   "outputs": [
    {
     "name": "stdout",
     "output_type": "stream",
     "text": [
      "The Even number is : 2\n",
      "The Even number is : 4\n",
      "The Even number is : 6\n",
      "The Even number is : 8\n",
      "The Even number is : 10\n"
     ]
    }
   ],
   "source": [
    "for i in range(1,11):\n",
    "    if i % 2 == 0:\n",
    "        \n",
    "        print ( \"The Even number is :\",i)"
   ]
  },
  {
   "cell_type": "markdown",
   "id": "203098bc",
   "metadata": {},
   "source": [
    "from 10 to 1  usin while"
   ]
  },
  {
   "cell_type": "code",
   "execution_count": 7,
   "id": "36a0014f",
   "metadata": {},
   "outputs": [
    {
     "name": "stdout",
     "output_type": "stream",
     "text": [
      "10\n",
      "9\n",
      "8\n",
      "7\n",
      "6\n",
      "5\n",
      "4\n",
      "3\n",
      "2\n",
      "1\n",
      "Blastoff\n"
     ]
    }
   ],
   "source": [
    "number = 10\n",
    "while number >= 1:\n",
    "    \n",
    "    print (number)\n",
    "    \n",
    "    if number == 1 :\n",
    "        print ('Blastoff')\n",
    "       \n",
    "    number -= 1\n",
    "    "
   ]
  },
  {
   "cell_type": "markdown",
   "id": "3658cab9",
   "metadata": {},
   "source": [
    "or"
   ]
  },
  {
   "cell_type": "code",
   "execution_count": 8,
   "id": "17e5bfc1",
   "metadata": {},
   "outputs": [
    {
     "name": "stdout",
     "output_type": "stream",
     "text": [
      "10\n",
      "9\n",
      "8\n",
      "7\n",
      "6\n",
      "5\n",
      "4\n",
      "3\n",
      "2\n",
      "1\n",
      "Blastoff\n"
     ]
    }
   ],
   "source": [
    "number = 10\n",
    "while True:\n",
    "     \n",
    "    if number < 1 :\n",
    "        print ('Blastoff')\n",
    "        break\n",
    "    print (number)\n",
    "     \n",
    "    number -= 1"
   ]
  },
  {
   "cell_type": "markdown",
   "id": "0ba7b961",
   "metadata": {},
   "source": [
    "Lists"
   ]
  },
  {
   "cell_type": "code",
   "execution_count": 9,
   "id": "ded86fda",
   "metadata": {},
   "outputs": [
    {
     "name": "stdout",
     "output_type": "stream",
     "text": [
      "Apple\n",
      "Grape\n",
      "Mango\n",
      "Banana\n"
     ]
    }
   ],
   "source": [
    "fav_fruits = [\"Apple\" , \"Grape\" , \"Mango\" , \"Banana\"]\n",
    "for i in fav_fruits:\n",
    "    print (i)\n"
   ]
  },
  {
   "cell_type": "code",
   "execution_count": null,
   "id": "e6a0200f",
   "metadata": {},
   "outputs": [],
   "source": []
  }
 ],
 "metadata": {
  "kernelspec": {
   "display_name": "Python 3 (ipykernel)",
   "language": "python",
   "name": "python3"
  },
  "language_info": {
   "codemirror_mode": {
    "name": "ipython",
    "version": 3
   },
   "file_extension": ".py",
   "mimetype": "text/x-python",
   "name": "python",
   "nbconvert_exporter": "python",
   "pygments_lexer": "ipython3",
   "version": "3.8.8"
  }
 },
 "nbformat": 4,
 "nbformat_minor": 5
}
